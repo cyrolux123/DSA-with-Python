{
 "cells": [
  {
   "cell_type": "code",
   "execution_count": 1,
   "metadata": {},
   "outputs": [
    {
     "name": "stdout",
     "output_type": "stream",
     "text": [
      "lst: [6, 8, 1, 4, 5, 3, 7, 2]\n",
      "mid: 5\n",
      "lst: [6, 8, 1, 4]\n",
      "mid: 1\n",
      "lst: [6, 8]\n",
      "mid: 8\n",
      "Left partition: [6]\n",
      "Right partition: [8]\n",
      "Left partition: ---\n",
      "lst: [1, 4]\n",
      "mid: 4\n",
      "Left partition: [1]\n",
      "Right partition: [4]\n",
      "Right partition: ---\n",
      "Left partition: ---\n",
      "lst: [5, 3, 7, 2]\n",
      "mid: 7\n",
      "lst: [5, 3]\n",
      "mid: 3\n",
      "Left partition: [5]\n",
      "Right partition: [3]\n",
      "Left partition: ---\n",
      "lst: [7, 2]\n",
      "mid: 2\n",
      "Left partition: [7]\n",
      "Right partition: [2]\n",
      "Right partition: ---\n",
      "Right partition: ---\n"
     ]
    },
    {
     "data": {
      "text/plain": [
       "'---'"
      ]
     },
     "execution_count": 1,
     "metadata": {},
     "output_type": "execute_result"
    }
   ],
   "source": [
    "def merge_sort(lst):\n",
    "\n",
    "    # if length of lst in 1 or less,\n",
    "    # we know lst is completely divided\n",
    "    # end recursion in this case       \n",
    "    if len(lst) <= 1:\n",
    "        return lst\n",
    "        \n",
    "    print(f'lst: {lst}')\n",
    "\n",
    "    # get the mid-point of the list\n",
    "    mid = len(lst) // 2\n",
    "\n",
    "    print(f'mid: {lst[mid]}')\n",
    "\n",
    "    # get the left half portion of list\n",
    "    # and recursively divide it again\n",
    "    left = merge_sort(lst[: mid])\n",
    "    print(f'Left partition: {left}')\n",
    "\n",
    "    # get the right half portion of list\n",
    "    # and recursively divide it again\n",
    "    right = merge_sort(lst[mid: ])\n",
    "    print(f'Right partition: {right}')\n",
    "\n",
    "    return '---'\n",
    "\n",
    "data = [6, 8, 1, 4, 5, 3, 7, 2]\n",
    "merge_sort(data)"
   ]
  }
 ],
 "metadata": {
  "kernelspec": {
   "display_name": "Python 3",
   "language": "python",
   "name": "python3"
  },
  "language_info": {
   "codemirror_mode": {
    "name": "ipython",
    "version": 3
   },
   "file_extension": ".py",
   "mimetype": "text/x-python",
   "name": "python",
   "nbconvert_exporter": "python",
   "pygments_lexer": "ipython3",
   "version": "3.12.4"
  }
 },
 "nbformat": 4,
 "nbformat_minor": 2
}
