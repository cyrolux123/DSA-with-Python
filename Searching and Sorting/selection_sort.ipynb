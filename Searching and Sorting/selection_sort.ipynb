{
 "cells": [
  {
   "cell_type": "markdown",
   "metadata": {},
   "source": [
    "1. Find the index of the smallest element in the list."
   ]
  },
  {
   "cell_type": "code",
   "execution_count": 1,
   "metadata": {},
   "outputs": [
    {
     "name": "stdout",
     "output_type": "stream",
     "text": [
      "4\n"
     ]
    }
   ],
   "source": [
    "lst = [18, 10, 8, 14, 1]\n",
    "\n",
    "min_index = 0\n",
    "\n",
    "# iterate from second element to last\n",
    "for j in range(1, len(lst)):\n",
    "    \n",
    "    # get the index of the smallest element\n",
    "    if lst[j] < lst[min_index]:\n",
    "        min_index = j\n",
    "\n",
    "print(min_index)  # 4"
   ]
  },
  {
   "cell_type": "markdown",
   "metadata": {},
   "source": [
    "2. Swap the smallest element with the first element."
   ]
  },
  {
   "cell_type": "code",
   "execution_count": 2,
   "metadata": {},
   "outputs": [],
   "source": [
    "# swap the smallest element with the first element\n",
    "lst[min_index], lst[0] = lst[0], lst[min_index]"
   ]
  },
  {
   "cell_type": "markdown",
   "metadata": {},
   "source": [
    "3. Repeat step 2 for each element in the list."
   ]
  },
  {
   "cell_type": "code",
   "execution_count": 3,
   "metadata": {},
   "outputs": [],
   "source": [
    "for i in range(len(lst)):\n",
    "    min_index = i\n",
    "\n",
    "    for j in range(i + 1, len(lst)):\n",
    "        if lst[j] < lst[min_index]:\n",
    "            min_index = j"
   ]
  },
  {
   "cell_type": "markdown",
   "metadata": {},
   "source": [
    "Source Code"
   ]
  },
  {
   "cell_type": "code",
   "execution_count": 4,
   "metadata": {},
   "outputs": [
    {
     "name": "stdout",
     "output_type": "stream",
     "text": [
      "Unsorted List: [18, 10, 8, 14, 1]\n",
      "Sorted List: [1, 8, 10, 14, 18]\n"
     ]
    }
   ],
   "source": [
    "def selection_sort(lst):\n",
    "   \n",
    "    for i in range(len(lst)):\n",
    "        \n",
    "        # assume the first unsorted element is the minimum\n",
    "        min_index = i\n",
    "    \n",
    "        # iterate over unsorted elements\n",
    "        for j in range(i + 1, len(lst)):\n",
    "\n",
    "            # find index of the smallest element\n",
    "            # in the unsorted part of the list\n",
    "            if lst[j] < lst[min_index]:\n",
    "                min_index = j\n",
    "    \n",
    "        # swap the smallest element with the first element\n",
    "        # of the unsorted part \n",
    "        lst[min_index], lst[i] = lst[i], lst[min_index]\n",
    "    \n",
    "    return lst\n",
    "\n",
    "\n",
    "data = [18, 10, 8, 14, 1]\n",
    "print(f'Unsorted List: {data}')\n",
    "\n",
    "sorted_list = selection_sort(data)\n",
    "print(f'Sorted List: {sorted_list}')"
   ]
  },
  {
   "cell_type": "code",
   "execution_count": null,
   "metadata": {},
   "outputs": [
    {
     "name": "stdout",
     "output_type": "stream",
     "text": [
      "[1, 2, 22, 33, 44]\n"
     ]
    }
   ],
   "source": [
    "def selection_sort(lst):\n",
    "    \n",
    "    for i in range(len(lst)):\n",
    "        min_index = i\n",
    "\n",
    "        for j in range(i+1,len(lst)):\n",
    "            if lst[j] < lst[min_index]:\n",
    "                min_index = j\n",
    "        \n",
    "        lst[min_index], lst[i] =lst[i], lst[min_index]\n",
    "    \n",
    "    return lst\n",
    "\n",
    "\n",
    "# take integer inputs and convert it to a list\n",
    "data_list = list(map(int, input().split()))\n",
    "\n",
    "# call the selection_sort() function\n",
    "result = selection_sort(data_list)\n",
    "\n",
    "# print the sorted list\n",
    "print(result)"
   ]
  },
  {
   "cell_type": "code",
   "execution_count": 1,
   "metadata": {},
   "outputs": [
    {
     "name": "stdout",
     "output_type": "stream",
     "text": [
      "[55, 44, 33, 2, 1]\n"
     ]
    }
   ],
   "source": [
    "def selection_sort(lst):\n",
    "    # write your code here\n",
    "    for i in range(len(lst)):\n",
    "        min_index = i\n",
    "\n",
    "        for j in range(i+1,len(lst)):\n",
    "            if lst[j] >= lst[min_index]:\n",
    "                min_index = j\n",
    "        \n",
    "        lst[min_index], lst[i] =lst[i], lst[min_index]\n",
    "    \n",
    "    return lst\n",
    "\n",
    "# take integer input and convert it to a list\n",
    "data_list = list(map(int, input().split()))\n",
    "\n",
    "sorted_list = selection_sort(data_list)\n",
    "print(sorted_list)"
   ]
  },
  {
   "cell_type": "markdown",
   "metadata": {},
   "source": [
    "Number of Swaps"
   ]
  },
  {
   "cell_type": "code",
   "execution_count": 2,
   "metadata": {},
   "outputs": [
    {
     "name": "stdout",
     "output_type": "stream",
     "text": [
      "2\n"
     ]
    }
   ],
   "source": [
    "# Replace ___ with your code\n",
    "\n",
    "def count_swaps(lst):\n",
    "    \n",
    "    # set number of swaps to 0\n",
    "    swaps = 0\n",
    "    \n",
    "    for i in range(len(lst)):\n",
    "        min_index = i\n",
    "\n",
    "        for j in range(i + 1, len(lst)):\n",
    "            if lst[j] < lst[min_index]:\n",
    "                min_index = j\n",
    "\n",
    "        # swap only if lst[i] and lst[min_index] are not equal     \n",
    "        if lst[i] != lst[min_index]:\n",
    "            lst[i], lst[min_index] = lst[min_index], lst[i]\n",
    "\n",
    "            # increment the swaps variable\n",
    "            swaps += 1\n",
    "         \n",
    "        \n",
    "    return swaps\n",
    "\n",
    "# take integer inputs and convert it to a list\n",
    "data = list(map(int, input().split()))\n",
    "\n",
    "result = count_swaps(data)\n",
    "\n",
    "print(result)"
   ]
  }
 ],
 "metadata": {
  "kernelspec": {
   "display_name": "Python 3",
   "language": "python",
   "name": "python3"
  },
  "language_info": {
   "codemirror_mode": {
    "name": "ipython",
    "version": 3
   },
   "file_extension": ".py",
   "mimetype": "text/x-python",
   "name": "python",
   "nbconvert_exporter": "python",
   "pygments_lexer": "ipython3",
   "version": "3.12.4"
  }
 },
 "nbformat": 4,
 "nbformat_minor": 2
}
