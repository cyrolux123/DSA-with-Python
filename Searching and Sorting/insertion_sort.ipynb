{
 "cells": [
  {
   "cell_type": "markdown",
   "metadata": {},
   "source": [
    "Source Code"
   ]
  },
  {
   "cell_type": "code",
   "execution_count": 1,
   "metadata": {},
   "outputs": [
    {
     "name": "stdout",
     "output_type": "stream",
     "text": [
      "Unsorted List: [7, 4, 1, 3, 2]\n",
      "Sorted List: [1, 2, 3, 4, 7]\n"
     ]
    }
   ],
   "source": [
    "def insertion_sort(lst):\n",
    "    \n",
    "    for i in range(1, len(lst)):\n",
    "        key = lst[i]\n",
    "        \n",
    "        j = i - 1\n",
    "        \n",
    "        while j >= 0 and key < lst[j]:\n",
    "            lst[j + 1] = lst[j]\n",
    "            j = j - 1\n",
    "\n",
    "        lst[j + 1] = key\n",
    "    \n",
    "    return lst\n",
    "\n",
    "data =  [7, 4, 1, 3, 2]\n",
    "\n",
    "print(f\"Unsorted List: {data}\")\n",
    "sorted_list = insertion_sort(data)\n",
    "print(f\"Sorted List: {sorted_list}\")"
   ]
  },
  {
   "cell_type": "code",
   "execution_count": null,
   "metadata": {},
   "outputs": [],
   "source": []
  },
  {
   "cell_type": "code",
   "execution_count": null,
   "metadata": {},
   "outputs": [],
   "source": []
  }
 ],
 "metadata": {
  "kernelspec": {
   "display_name": "Python 3",
   "language": "python",
   "name": "python3"
  },
  "language_info": {
   "codemirror_mode": {
    "name": "ipython",
    "version": 3
   },
   "file_extension": ".py",
   "mimetype": "text/x-python",
   "name": "python",
   "nbconvert_exporter": "python",
   "pygments_lexer": "ipython3",
   "version": "3.12.4"
  }
 },
 "nbformat": 4,
 "nbformat_minor": 2
}
