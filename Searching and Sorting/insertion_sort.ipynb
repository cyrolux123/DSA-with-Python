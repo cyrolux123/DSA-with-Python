{
 "cells": [
  {
   "cell_type": "markdown",
   "metadata": {},
   "source": [
    "Source Code"
   ]
  },
  {
   "cell_type": "code",
   "execution_count": 1,
   "metadata": {},
   "outputs": [
    {
     "name": "stdout",
     "output_type": "stream",
     "text": [
      "Unsorted List: [7, 4, 1, 3, 2]\n",
      "Sorted List: [1, 2, 3, 4, 7]\n"
     ]
    }
   ],
   "source": [
    "def insertion_sort(lst):\n",
    "    \n",
    "    for i in range(1, len(lst)):\n",
    "        key = lst[i]\n",
    "        \n",
    "        j = i - 1\n",
    "        \n",
    "        while j >= 0 and key < lst[j]:\n",
    "            lst[j + 1] = lst[j]\n",
    "            j = j - 1\n",
    "\n",
    "        lst[j + 1] = key\n",
    "    \n",
    "    return lst\n",
    "\n",
    "data =  [7, 4, 1, 3, 2]\n",
    "\n",
    "print(f\"Unsorted List: {data}\")\n",
    "sorted_list = insertion_sort(data)\n",
    "print(f\"Sorted List: {sorted_list}\")"
   ]
  },
  {
   "cell_type": "code",
   "execution_count": 2,
   "metadata": {},
   "outputs": [
    {
     "name": "stdout",
     "output_type": "stream",
     "text": [
      "[1, 2, 5, 6, 8, 9, 15]\n"
     ]
    }
   ],
   "source": [
    "\n",
    "def insertion_sort(lst):\n",
    "    # write your code here\n",
    "    for i in range(1,len(lst)):\n",
    "        key = lst[i]\n",
    "        j = i - 1\n",
    "        while(j>=0 and key < lst[j]):\n",
    "            lst[j+1] = lst[j]\n",
    "            j = j - 1\n",
    "        lst[j + 1] = key\n",
    "    return lst\n",
    "\n",
    "# take integer inputs and convert it to a list\n",
    "data_list = list(map(int, input().split()))\n",
    "\n",
    "# call the insertion_sort() function\n",
    "result = insertion_sort(data_list)\n",
    "\n",
    "# print the sorted list\n",
    "print(result)"
   ]
  },
  {
   "cell_type": "code",
   "execution_count": 1,
   "metadata": {},
   "outputs": [
    {
     "name": "stdout",
     "output_type": "stream",
     "text": [
      "[8, 7, 5, 4, 2]\n"
     ]
    }
   ],
   "source": [
    "def insertion_sort(lst):\n",
    "    \n",
    "    for i in range(1,len(lst)):\n",
    "\n",
    "        key = lst[i]\n",
    "        j = i - 1\n",
    "\n",
    "        while(j >=0 and key > lst[j]):\n",
    "            lst[j + 1] = lst[j]\n",
    "            j = j - 1\n",
    "        \n",
    "        lst[j + 1] = key\n",
    "    return lst\n",
    "\n",
    "\n",
    "# take integer inputs and convert it to a list\n",
    "data_list = list(map(int, input().split()))\n",
    "\n",
    "# call the insertion_sort() function\n",
    "result = insertion_sort(data_list)\n",
    "\n",
    "# print the sorted list\n",
    "print(result)"
   ]
  },
  {
   "cell_type": "markdown",
   "metadata": {},
   "source": [
    "Sort the first n elements of a list"
   ]
  },
  {
   "cell_type": "code",
   "execution_count": 2,
   "metadata": {},
   "outputs": [
    {
     "name": "stdout",
     "output_type": "stream",
     "text": [
      "[2, 4, 7, 9]\n"
     ]
    }
   ],
   "source": [
    "def perform_partial_sort(lst, n):\n",
    "    \n",
    "    # iterate only till the n-th element \n",
    "    for step in range(1, n):\n",
    "        key = lst[step]\n",
    "        j = step - 1\n",
    "        \n",
    "       \n",
    "        while j >= 0 and key < lst[j]:\n",
    "            lst[j + 1] = lst[j]\n",
    "            j = j - 1\n",
    "\n",
    "        lst[j + 1] = key\n",
    "\n",
    "    return lst[:n]\n",
    "\n",
    "\n",
    "data = list(map(int, input().split()))\n",
    "n = int(input())\n",
    "\n",
    "sorted_partial_list = perform_partial_sort(data, n)\n",
    "print(sorted_partial_list)"
   ]
  }
 ],
 "metadata": {
  "kernelspec": {
   "display_name": "Python 3",
   "language": "python",
   "name": "python3"
  },
  "language_info": {
   "codemirror_mode": {
    "name": "ipython",
    "version": 3
   },
   "file_extension": ".py",
   "mimetype": "text/x-python",
   "name": "python",
   "nbconvert_exporter": "python",
   "pygments_lexer": "ipython3",
   "version": "3.12.4"
  }
 },
 "nbformat": 4,
 "nbformat_minor": 2
}
