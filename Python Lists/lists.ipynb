{
 "cells": [
  {
   "cell_type": "code",
   "execution_count": 14,
   "metadata": {},
   "outputs": [
    {
     "name": "stdout",
     "output_type": "stream",
     "text": [
      "[30, 40, 50]\n"
     ]
    }
   ],
   "source": [
    "numbers = [10, 20, 30, 40, 50, 60]\n",
    "\n",
    "# start: 2\n",
    "# end: 5\n",
    "new_numbers = numbers[2: 5]\n",
    "print(new_numbers)    "
   ]
  },
  {
   "cell_type": "code",
   "execution_count": 15,
   "metadata": {},
   "outputs": [
    {
     "name": "stdout",
     "output_type": "stream",
     "text": [
      "[10, 20, 30, 40]\n",
      "[40, 50]\n",
      "[40, 50]\n"
     ]
    }
   ],
   "source": [
    "numbers = [10, 20, 30, 40, 50, 60]\n",
    "\n",
    "# items from index 0 to 3\n",
    "print(numbers[0: 4])    \n",
    "\n",
    "# items from index 3 to 4\n",
    "print(numbers[3: 5])  \n",
    "\n",
    "# using negative index in slicing\n",
    "\n",
    "# items from the fourth item (3rd index)\n",
    "# to the second-last item\n",
    "\n",
    "print(numbers[3: -1])   "
   ]
  },
  {
   "cell_type": "code",
   "execution_count": 16,
   "metadata": {},
   "outputs": [
    {
     "name": "stdout",
     "output_type": "stream",
     "text": [
      "['cat', 'guinea pig']\n"
     ]
    }
   ],
   "source": [
    "animals = ['dog', 'cat', 'guinea pig', 'rat']\n",
    "\n",
    "# extract elements using list slicing\n",
    "new_animals = animals[1:3]\n",
    "\n",
    "# print the new list\n",
    "print(new_animals)"
   ]
  },
  {
   "cell_type": "code",
   "execution_count": 17,
   "metadata": {},
   "outputs": [
    {
     "name": "stdout",
     "output_type": "stream",
     "text": [
      "[10, 20, 30, 40]\n"
     ]
    }
   ],
   "source": [
    "numbers = [10, 20, 30, 40, 50, 60]\n",
    "\n",
    "# items from first item to third index\n",
    "print(numbers[: 4])    "
   ]
  },
  {
   "cell_type": "code",
   "execution_count": 18,
   "metadata": {},
   "outputs": [
    {
     "name": "stdout",
     "output_type": "stream",
     "text": [
      "[40, 50, 60]\n"
     ]
    }
   ],
   "source": [
    "numbers = [10, 20, 30, 40, 50, 60]\n",
    "\n",
    "# items from 3rd index to last item\n",
    "print(numbers[3: ])  "
   ]
  },
  {
   "cell_type": "code",
   "execution_count": 19,
   "metadata": {},
   "outputs": [
    {
     "name": "stdout",
     "output_type": "stream",
     "text": [
      "[10, 20, 30, 40, 50, 60]\n"
     ]
    }
   ],
   "source": [
    "numbers = [10, 20, 30, 40, 50, 60]\n",
    "\n",
    "# omitting both the start and end indexes\n",
    "# items from first to last\n",
    "print(numbers[:])  "
   ]
  },
  {
   "cell_type": "code",
   "execution_count": 20,
   "metadata": {},
   "outputs": [
    {
     "name": "stdout",
     "output_type": "stream",
     "text": [
      "['guinea pig', 'rat']\n"
     ]
    }
   ],
   "source": [
    "animals = ['dog', 'cat', 'guinea pig', 'rat']\n",
    "\n",
    "# extract elements using list slicing\n",
    "new_animals = animals[2:]\n",
    "\n",
    "# print the new list\n",
    "print(new_animals)"
   ]
  },
  {
   "cell_type": "code",
   "execution_count": 21,
   "metadata": {},
   "outputs": [
    {
     "name": "stdout",
     "output_type": "stream",
     "text": [
      "[0, 0, 0, 0, 0]\n"
     ]
    }
   ],
   "source": [
    "lst = [0] * 5\n",
    "print(lst) "
   ]
  },
  {
   "cell_type": "code",
   "execution_count": null,
   "metadata": {},
   "outputs": [],
   "source": []
  }
 ],
 "metadata": {
  "kernelspec": {
   "display_name": "Python 3",
   "language": "python",
   "name": "python3"
  },
  "language_info": {
   "codemirror_mode": {
    "name": "ipython",
    "version": 3
   },
   "file_extension": ".py",
   "mimetype": "text/x-python",
   "name": "python",
   "nbconvert_exporter": "python",
   "pygments_lexer": "ipython3",
   "version": "3.12.4"
  }
 },
 "nbformat": 4,
 "nbformat_minor": 2
}
